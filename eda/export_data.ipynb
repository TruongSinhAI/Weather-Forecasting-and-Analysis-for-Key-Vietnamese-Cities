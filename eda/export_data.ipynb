{
 "cells": [
  {
   "metadata": {
    "ExecuteTime": {
     "end_time": "2025-02-25T13:36:53.679051Z",
     "start_time": "2025-02-25T13:36:53.650776Z"
    }
   },
   "cell_type": "code",
   "source": [
    "import numpy as np\n",
    "import pandas as pd\n",
    "import seaborn as sns\n",
    "import matplotlib.pyplot as plt\n",
    "from pathlib import Path"
   ],
   "id": "8267991a922e7cd9",
   "outputs": [],
   "execution_count": 1
  },
  {
   "metadata": {
    "ExecuteTime": {
     "end_time": "2025-02-25T13:36:53.893500Z",
     "start_time": "2025-02-25T13:36:53.685575Z"
    }
   },
   "cell_type": "code",
   "source": [
    "def merge_city_data(data_dict):\n",
    "    \"\"\"\n",
    "    Gộp tất cả các DataFrame từ dictionary vào một DataFrame duy nhất.\n",
    "    Thêm cột 'city' để xác định nguồn gốc dữ liệu.\n",
    "\n",
    "    Parameters:\n",
    "        data_dict (dict): Dictionary chứa DataFrame cho mỗi thành phố.\n",
    "\n",
    "    Returns:\n",
    "        pd.DataFrame: DataFrame đã được gộp.\n",
    "    \"\"\"\n",
    "    dfs = []\n",
    "    for city_name, df in data_dict.items():\n",
    "        df_copy = df.copy()  # Tạo bản sao để không sửa đổi DataFrame gốc trong data_dict\n",
    "        df_copy['city'] = city_name\n",
    "        dfs.append(df_copy)\n",
    "    merged_df = pd.concat(dfs, ignore_index=True)\n",
    "    return merged_df"
   ],
   "id": "initial_id",
   "outputs": [],
   "execution_count": 2
  },
  {
   "metadata": {
    "ExecuteTime": {
     "end_time": "2025-02-25T14:15:16.784299Z",
     "start_time": "2025-02-25T14:15:16.774220Z"
    }
   },
   "cell_type": "code",
   "source": [
    "def load_data(data_folder):\n",
    "    \"\"\"\n",
    "    Load tất cả các file CSV trong folder được chỉ định.\n",
    "    Mỗi file được coi là dữ liệu của một thành phố.\n",
    "\n",
    "    Parameters:\n",
    "        data_folder (str): Đường dẫn đến thư mục chứa các file CSV.\n",
    "\n",
    "    Returns:\n",
    "        dict: Dictionary chứa DataFrame cho mỗi thành phố, với tên file làm key.\n",
    "              Ví dụ: {'city1': DataFrame_city1, 'city2': DataFrame_city2, ...}\n",
    "    \"\"\"\n",
    "    data_dict = {}\n",
    "    for file in Path(data_folder).glob('*.csv'):\n",
    "        city_name = file.stem\n",
    "        try:\n",
    "            df = pd.read_csv(file)\n",
    "            df['datetime'] = pd.to_datetime(df['datetime'])\n",
    "            data_dict[city_name] = df\n",
    "\n",
    "        except Exception as e:\n",
    "            print(f\"Error loading data for {city_name}: {e}\")\n",
    "    return data_dict"
   ],
   "id": "2550bc381e6e486b",
   "outputs": [],
   "execution_count": 23
  },
  {
   "metadata": {
    "ExecuteTime": {
     "end_time": "2025-02-25T14:25:50.282886Z",
     "start_time": "2025-02-25T14:25:50.103245Z"
    }
   },
   "cell_type": "code",
   "source": [
    "data_dict = load_data('../datasets')\n",
    "\n",
    "# Gộp dữ liệu của tất cả các thành phố vào một DataFrame duy nhất\n",
    "df = merge_city_data(data_dict)"
   ],
   "id": "eb9ec4dac1f7e7d1",
   "outputs": [],
   "execution_count": 50
  },
  {
   "metadata": {
    "ExecuteTime": {
     "end_time": "2025-02-25T14:23:03.246519Z",
     "start_time": "2025-02-25T14:23:03.222077Z"
    }
   },
   "cell_type": "code",
   "source": "df.head(5)",
   "id": "19944a79c404cc4c",
   "outputs": [
    {
     "data": {
      "text/plain": [
       "                name   datetime  tempmax  tempmin  temp  feelslikemax  \\\n",
       "0  Đà Nẵng, Việt Nam 2000-01-01     25.0     19.1  21.5          25.0   \n",
       "1  Đà Nẵng, Việt Nam 2000-01-02     22.1     19.2  21.0          22.1   \n",
       "2  Đà Nẵng, Việt Nam 2000-01-03     25.1     18.7  21.5          25.1   \n",
       "3  Đà Nẵng, Việt Nam 2000-01-04     26.1     17.9  22.9          26.1   \n",
       "4  Đà Nẵng, Việt Nam 2000-01-05     28.0     19.9  23.8          29.7   \n",
       "\n",
       "   feelslikemin  feelslike   dew  humidity  ...  uvindex  severerisk  \\\n",
       "0          19.1       21.5  19.6      89.3  ...      NaN         NaN   \n",
       "1          19.2       21.0  19.7      92.4  ...      NaN         NaN   \n",
       "2          18.7       21.5  19.4      88.7  ...      NaN         NaN   \n",
       "3          17.9       22.9  19.9      84.7  ...      NaN         NaN   \n",
       "4          19.9       24.0  20.9      85.5  ...      NaN         NaN   \n",
       "\n",
       "    sunrise    sunset  moonphase              conditions  \\\n",
       "0  06:14:40  17:25:53       0.82  Rain, Partially cloudy   \n",
       "1  06:15:01  17:26:28       0.85  Rain, Partially cloudy   \n",
       "2  06:15:23  17:27:04       0.88  Rain, Partially cloudy   \n",
       "3  06:15:43  17:27:39       0.92        Partially cloudy   \n",
       "4  06:16:02  17:28:15       0.95        Partially cloudy   \n",
       "\n",
       "                                         description               icon  \\\n",
       "0  Partly cloudy throughout the day with afternoo...               rain   \n",
       "1        Partly cloudy throughout the day with rain.               rain   \n",
       "2  Partly cloudy throughout the day with early mo...               rain   \n",
       "3                  Partly cloudy throughout the day.  partly-cloudy-day   \n",
       "4                  Partly cloudy throughout the day.  partly-cloudy-day   \n",
       "\n",
       "                         stations    city  \n",
       "0  ['48855099999', '48852099999']  DaNang  \n",
       "1  ['48855099999', '48852099999']  DaNang  \n",
       "2  ['48855099999', '48852099999']  DaNang  \n",
       "3  ['48855099999', '48852099999']  DaNang  \n",
       "4  ['48855099999', '48852099999']  DaNang  \n",
       "\n",
       "[5 rows x 34 columns]"
      ],
      "text/html": [
       "<div>\n",
       "<style scoped>\n",
       "    .dataframe tbody tr th:only-of-type {\n",
       "        vertical-align: middle;\n",
       "    }\n",
       "\n",
       "    .dataframe tbody tr th {\n",
       "        vertical-align: top;\n",
       "    }\n",
       "\n",
       "    .dataframe thead th {\n",
       "        text-align: right;\n",
       "    }\n",
       "</style>\n",
       "<table border=\"1\" class=\"dataframe\">\n",
       "  <thead>\n",
       "    <tr style=\"text-align: right;\">\n",
       "      <th></th>\n",
       "      <th>name</th>\n",
       "      <th>datetime</th>\n",
       "      <th>tempmax</th>\n",
       "      <th>tempmin</th>\n",
       "      <th>temp</th>\n",
       "      <th>feelslikemax</th>\n",
       "      <th>feelslikemin</th>\n",
       "      <th>feelslike</th>\n",
       "      <th>dew</th>\n",
       "      <th>humidity</th>\n",
       "      <th>...</th>\n",
       "      <th>uvindex</th>\n",
       "      <th>severerisk</th>\n",
       "      <th>sunrise</th>\n",
       "      <th>sunset</th>\n",
       "      <th>moonphase</th>\n",
       "      <th>conditions</th>\n",
       "      <th>description</th>\n",
       "      <th>icon</th>\n",
       "      <th>stations</th>\n",
       "      <th>city</th>\n",
       "    </tr>\n",
       "  </thead>\n",
       "  <tbody>\n",
       "    <tr>\n",
       "      <th>0</th>\n",
       "      <td>Đà Nẵng, Việt Nam</td>\n",
       "      <td>2000-01-01</td>\n",
       "      <td>25.0</td>\n",
       "      <td>19.1</td>\n",
       "      <td>21.5</td>\n",
       "      <td>25.0</td>\n",
       "      <td>19.1</td>\n",
       "      <td>21.5</td>\n",
       "      <td>19.6</td>\n",
       "      <td>89.3</td>\n",
       "      <td>...</td>\n",
       "      <td>NaN</td>\n",
       "      <td>NaN</td>\n",
       "      <td>06:14:40</td>\n",
       "      <td>17:25:53</td>\n",
       "      <td>0.82</td>\n",
       "      <td>Rain, Partially cloudy</td>\n",
       "      <td>Partly cloudy throughout the day with afternoo...</td>\n",
       "      <td>rain</td>\n",
       "      <td>['48855099999', '48852099999']</td>\n",
       "      <td>DaNang</td>\n",
       "    </tr>\n",
       "    <tr>\n",
       "      <th>1</th>\n",
       "      <td>Đà Nẵng, Việt Nam</td>\n",
       "      <td>2000-01-02</td>\n",
       "      <td>22.1</td>\n",
       "      <td>19.2</td>\n",
       "      <td>21.0</td>\n",
       "      <td>22.1</td>\n",
       "      <td>19.2</td>\n",
       "      <td>21.0</td>\n",
       "      <td>19.7</td>\n",
       "      <td>92.4</td>\n",
       "      <td>...</td>\n",
       "      <td>NaN</td>\n",
       "      <td>NaN</td>\n",
       "      <td>06:15:01</td>\n",
       "      <td>17:26:28</td>\n",
       "      <td>0.85</td>\n",
       "      <td>Rain, Partially cloudy</td>\n",
       "      <td>Partly cloudy throughout the day with rain.</td>\n",
       "      <td>rain</td>\n",
       "      <td>['48855099999', '48852099999']</td>\n",
       "      <td>DaNang</td>\n",
       "    </tr>\n",
       "    <tr>\n",
       "      <th>2</th>\n",
       "      <td>Đà Nẵng, Việt Nam</td>\n",
       "      <td>2000-01-03</td>\n",
       "      <td>25.1</td>\n",
       "      <td>18.7</td>\n",
       "      <td>21.5</td>\n",
       "      <td>25.1</td>\n",
       "      <td>18.7</td>\n",
       "      <td>21.5</td>\n",
       "      <td>19.4</td>\n",
       "      <td>88.7</td>\n",
       "      <td>...</td>\n",
       "      <td>NaN</td>\n",
       "      <td>NaN</td>\n",
       "      <td>06:15:23</td>\n",
       "      <td>17:27:04</td>\n",
       "      <td>0.88</td>\n",
       "      <td>Rain, Partially cloudy</td>\n",
       "      <td>Partly cloudy throughout the day with early mo...</td>\n",
       "      <td>rain</td>\n",
       "      <td>['48855099999', '48852099999']</td>\n",
       "      <td>DaNang</td>\n",
       "    </tr>\n",
       "    <tr>\n",
       "      <th>3</th>\n",
       "      <td>Đà Nẵng, Việt Nam</td>\n",
       "      <td>2000-01-04</td>\n",
       "      <td>26.1</td>\n",
       "      <td>17.9</td>\n",
       "      <td>22.9</td>\n",
       "      <td>26.1</td>\n",
       "      <td>17.9</td>\n",
       "      <td>22.9</td>\n",
       "      <td>19.9</td>\n",
       "      <td>84.7</td>\n",
       "      <td>...</td>\n",
       "      <td>NaN</td>\n",
       "      <td>NaN</td>\n",
       "      <td>06:15:43</td>\n",
       "      <td>17:27:39</td>\n",
       "      <td>0.92</td>\n",
       "      <td>Partially cloudy</td>\n",
       "      <td>Partly cloudy throughout the day.</td>\n",
       "      <td>partly-cloudy-day</td>\n",
       "      <td>['48855099999', '48852099999']</td>\n",
       "      <td>DaNang</td>\n",
       "    </tr>\n",
       "    <tr>\n",
       "      <th>4</th>\n",
       "      <td>Đà Nẵng, Việt Nam</td>\n",
       "      <td>2000-01-05</td>\n",
       "      <td>28.0</td>\n",
       "      <td>19.9</td>\n",
       "      <td>23.8</td>\n",
       "      <td>29.7</td>\n",
       "      <td>19.9</td>\n",
       "      <td>24.0</td>\n",
       "      <td>20.9</td>\n",
       "      <td>85.5</td>\n",
       "      <td>...</td>\n",
       "      <td>NaN</td>\n",
       "      <td>NaN</td>\n",
       "      <td>06:16:02</td>\n",
       "      <td>17:28:15</td>\n",
       "      <td>0.95</td>\n",
       "      <td>Partially cloudy</td>\n",
       "      <td>Partly cloudy throughout the day.</td>\n",
       "      <td>partly-cloudy-day</td>\n",
       "      <td>['48855099999', '48852099999']</td>\n",
       "      <td>DaNang</td>\n",
       "    </tr>\n",
       "  </tbody>\n",
       "</table>\n",
       "<p>5 rows × 34 columns</p>\n",
       "</div>"
      ]
     },
     "execution_count": 37,
     "metadata": {},
     "output_type": "execute_result"
    }
   ],
   "execution_count": 37
  },
  {
   "metadata": {
    "ExecuteTime": {
     "end_time": "2025-02-25T14:26:04.777107Z",
     "start_time": "2025-02-25T14:26:04.773118Z"
    }
   },
   "cell_type": "code",
   "source": "keep_columns = ['datetime', 'temp', 'tempmax', 'tempmin', 'humidity', 'precip', 'cloudcover', 'visibility', 'city']",
   "id": "eb442cd6a1a1fc84",
   "outputs": [],
   "execution_count": 52
  },
  {
   "metadata": {
    "ExecuteTime": {
     "end_time": "2025-02-25T14:26:09.254147Z",
     "start_time": "2025-02-25T14:26:09.246138Z"
    }
   },
   "cell_type": "code",
   "source": [
    "df = df[keep_columns]\n",
    "df.columns"
   ],
   "id": "77ac503cfd34b39b",
   "outputs": [
    {
     "data": {
      "text/plain": [
       "Index(['datetime', 'temp', 'tempmax', 'tempmin', 'humidity', 'precip',\n",
       "       'cloudcover', 'visibility', 'city'],\n",
       "      dtype='object')"
      ]
     },
     "execution_count": 53,
     "metadata": {},
     "output_type": "execute_result"
    }
   ],
   "execution_count": 53
  },
  {
   "metadata": {
    "ExecuteTime": {
     "end_time": "2025-02-25T14:26:11.510009Z",
     "start_time": "2025-02-25T14:26:11.487511Z"
    }
   },
   "cell_type": "code",
   "source": [
    "df = df[df['datetime'] >= '2010-01-01']     \n",
    "# Đảm bảo cột datetime ở dạng datetime object\n",
    "df['datetime'] = pd.to_datetime(df['datetime'])\n",
    "\n",
    "# Tạo 2 cột mới\n",
    "df['day'] = df['datetime'].dt.day\n",
    "df['month'] = df['datetime'].dt.month\n",
    "df = pd.get_dummies(df, columns=['city'])\n"
   ],
   "id": "63d8df5c30918c3c",
   "outputs": [],
   "execution_count": 54
  },
  {
   "metadata": {
    "ExecuteTime": {
     "end_time": "2025-02-25T14:26:13.099824Z",
     "start_time": "2025-02-25T14:26:13.040194Z"
    }
   },
   "cell_type": "code",
   "source": "df.head(5)",
   "id": "f4eccdf57dbced07",
   "outputs": [
    {
     "data": {
      "text/plain": [
       "       datetime  temp  tempmax  tempmin  humidity  precip  cloudcover  \\\n",
       "3653 2010-01-01  23.8     28.0     20.1      81.9   0.000        67.5   \n",
       "3654 2010-01-02  24.2     28.6     20.0      84.1   0.000        58.2   \n",
       "3655 2010-01-03  24.1     26.2     21.0      84.9   0.004        82.3   \n",
       "3656 2010-01-04  24.4     28.1     20.1      81.0   0.000        69.1   \n",
       "3657 2010-01-05  24.4     28.6     19.7      81.9   0.000        58.5   \n",
       "\n",
       "      visibility  day  month  city_DaNang  city_Hanoi  city_HoChiMinh  \n",
       "3653         8.3    1      1         True       False           False  \n",
       "3654         7.4    2      1         True       False           False  \n",
       "3655         6.3    3      1         True       False           False  \n",
       "3656         7.8    4      1         True       False           False  \n",
       "3657         7.6    5      1         True       False           False  "
      ],
      "text/html": [
       "<div>\n",
       "<style scoped>\n",
       "    .dataframe tbody tr th:only-of-type {\n",
       "        vertical-align: middle;\n",
       "    }\n",
       "\n",
       "    .dataframe tbody tr th {\n",
       "        vertical-align: top;\n",
       "    }\n",
       "\n",
       "    .dataframe thead th {\n",
       "        text-align: right;\n",
       "    }\n",
       "</style>\n",
       "<table border=\"1\" class=\"dataframe\">\n",
       "  <thead>\n",
       "    <tr style=\"text-align: right;\">\n",
       "      <th></th>\n",
       "      <th>datetime</th>\n",
       "      <th>temp</th>\n",
       "      <th>tempmax</th>\n",
       "      <th>tempmin</th>\n",
       "      <th>humidity</th>\n",
       "      <th>precip</th>\n",
       "      <th>cloudcover</th>\n",
       "      <th>visibility</th>\n",
       "      <th>day</th>\n",
       "      <th>month</th>\n",
       "      <th>city_DaNang</th>\n",
       "      <th>city_Hanoi</th>\n",
       "      <th>city_HoChiMinh</th>\n",
       "    </tr>\n",
       "  </thead>\n",
       "  <tbody>\n",
       "    <tr>\n",
       "      <th>3653</th>\n",
       "      <td>2010-01-01</td>\n",
       "      <td>23.8</td>\n",
       "      <td>28.0</td>\n",
       "      <td>20.1</td>\n",
       "      <td>81.9</td>\n",
       "      <td>0.000</td>\n",
       "      <td>67.5</td>\n",
       "      <td>8.3</td>\n",
       "      <td>1</td>\n",
       "      <td>1</td>\n",
       "      <td>True</td>\n",
       "      <td>False</td>\n",
       "      <td>False</td>\n",
       "    </tr>\n",
       "    <tr>\n",
       "      <th>3654</th>\n",
       "      <td>2010-01-02</td>\n",
       "      <td>24.2</td>\n",
       "      <td>28.6</td>\n",
       "      <td>20.0</td>\n",
       "      <td>84.1</td>\n",
       "      <td>0.000</td>\n",
       "      <td>58.2</td>\n",
       "      <td>7.4</td>\n",
       "      <td>2</td>\n",
       "      <td>1</td>\n",
       "      <td>True</td>\n",
       "      <td>False</td>\n",
       "      <td>False</td>\n",
       "    </tr>\n",
       "    <tr>\n",
       "      <th>3655</th>\n",
       "      <td>2010-01-03</td>\n",
       "      <td>24.1</td>\n",
       "      <td>26.2</td>\n",
       "      <td>21.0</td>\n",
       "      <td>84.9</td>\n",
       "      <td>0.004</td>\n",
       "      <td>82.3</td>\n",
       "      <td>6.3</td>\n",
       "      <td>3</td>\n",
       "      <td>1</td>\n",
       "      <td>True</td>\n",
       "      <td>False</td>\n",
       "      <td>False</td>\n",
       "    </tr>\n",
       "    <tr>\n",
       "      <th>3656</th>\n",
       "      <td>2010-01-04</td>\n",
       "      <td>24.4</td>\n",
       "      <td>28.1</td>\n",
       "      <td>20.1</td>\n",
       "      <td>81.0</td>\n",
       "      <td>0.000</td>\n",
       "      <td>69.1</td>\n",
       "      <td>7.8</td>\n",
       "      <td>4</td>\n",
       "      <td>1</td>\n",
       "      <td>True</td>\n",
       "      <td>False</td>\n",
       "      <td>False</td>\n",
       "    </tr>\n",
       "    <tr>\n",
       "      <th>3657</th>\n",
       "      <td>2010-01-05</td>\n",
       "      <td>24.4</td>\n",
       "      <td>28.6</td>\n",
       "      <td>19.7</td>\n",
       "      <td>81.9</td>\n",
       "      <td>0.000</td>\n",
       "      <td>58.5</td>\n",
       "      <td>7.6</td>\n",
       "      <td>5</td>\n",
       "      <td>1</td>\n",
       "      <td>True</td>\n",
       "      <td>False</td>\n",
       "      <td>False</td>\n",
       "    </tr>\n",
       "  </tbody>\n",
       "</table>\n",
       "</div>"
      ]
     },
     "execution_count": 55,
     "metadata": {},
     "output_type": "execute_result"
    }
   ],
   "execution_count": 55
  },
  {
   "metadata": {
    "ExecuteTime": {
     "end_time": "2025-02-25T14:26:41.072032Z",
     "start_time": "2025-02-25T14:26:41.056013Z"
    }
   },
   "cell_type": "code",
   "source": "df.isna().sum()",
   "id": "b16318a2a6d8da40",
   "outputs": [
    {
     "data": {
      "text/plain": [
       "datetime          0\n",
       "temp              0\n",
       "tempmax           0\n",
       "tempmin           0\n",
       "humidity          0\n",
       "precip            0\n",
       "cloudcover        0\n",
       "visibility        0\n",
       "day               0\n",
       "month             0\n",
       "city_DaNang       0\n",
       "city_Hanoi        0\n",
       "city_HoChiMinh    0\n",
       "dtype: int64"
      ]
     },
     "execution_count": 56,
     "metadata": {},
     "output_type": "execute_result"
    }
   ],
   "execution_count": 56
  },
  {
   "metadata": {
    "ExecuteTime": {
     "end_time": "2025-02-25T14:26:43.624548Z",
     "start_time": "2025-02-25T14:26:43.589137Z"
    }
   },
   "cell_type": "code",
   "source": [
    "df = df.sort_values(by=\"datetime\")\n",
    "train_size = int(len(df) * 0.7)\n",
    "val_size = int(len(df) * 0.15)\n",
    "\n",
    "train_df = df.iloc[:train_size]\n",
    "val_df = df.iloc[train_size:train_size + val_size]\n",
    "test_df = df.iloc[train_size + val_size:]\n",
    "\n",
    "print(f\"Train: {len(train_df)} samples, from {train_df['datetime'].min()} to {train_df['datetime'].max()}\")\n",
    "print(f\"Validation: {len(val_df)} samples, from {val_df['datetime'].min()} to {val_df['datetime'].max()}\")\n",
    "print(f\"Test: {len(test_df)} samples, from {test_df['datetime'].min()} to {test_df['datetime'].max()}\")\n"
   ],
   "id": "d405f4ee2929a529",
   "outputs": [
    {
     "name": "stdout",
     "output_type": "stream",
     "text": [
      "Train: 11603 samples, from 2010-01-01 00:00:00 to 2020-08-03 00:00:00\n",
      "Validation: 2486 samples, from 2020-08-03 00:00:00 to 2022-11-10 00:00:00\n",
      "Test: 2487 samples, from 2022-11-10 00:00:00 to 2025-02-13 00:00:00\n"
     ]
    }
   ],
   "execution_count": 57
  },
  {
   "metadata": {
    "ExecuteTime": {
     "end_time": "2025-02-25T14:26:45.748623Z",
     "start_time": "2025-02-25T14:26:45.627579Z"
    }
   },
   "cell_type": "code",
   "source": [
    "import os\n",
    "\n",
    "# Tạo thư mục nếu chưa tồn tại\n",
    "output_dir = \"../datasets/train_val_test/\"\n",
    "os.makedirs(output_dir, exist_ok=True)\n",
    "\n",
    "# Xuất các file CSV\n",
    "train_df.to_csv(os.path.join(output_dir, \"train.csv\"), index=False)\n",
    "val_df.to_csv(os.path.join(output_dir, \"val.csv\"), index=False)\n",
    "test_df.to_csv(os.path.join(output_dir, \"test.csv\"), index=False)\n",
    "\n",
    "print(f\"Files saved to {output_dir}\")"
   ],
   "id": "b8b8763583253eb3",
   "outputs": [
    {
     "name": "stdout",
     "output_type": "stream",
     "text": [
      "Files saved to ../datasets/train_val_test/\n"
     ]
    }
   ],
   "execution_count": 58
  }
 ],
 "metadata": {
  "kernelspec": {
   "display_name": "Python 3",
   "language": "python",
   "name": "python3"
  },
  "language_info": {
   "codemirror_mode": {
    "name": "ipython",
    "version": 2
   },
   "file_extension": ".py",
   "mimetype": "text/x-python",
   "name": "python",
   "nbconvert_exporter": "python",
   "pygments_lexer": "ipython2",
   "version": "2.7.6"
  }
 },
 "nbformat": 4,
 "nbformat_minor": 5
}
